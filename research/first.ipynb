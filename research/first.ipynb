{
 "cells": [
  {
   "cell_type": "code",
   "execution_count": 3,
   "id": "e849561c-aa3c-4040-8328-f8c426660071",
   "metadata": {
    "execution": {
     "iopub.execute_input": "2023-09-06T19:48:28.082832Z",
     "iopub.status.busy": "2023-09-06T19:48:28.082832Z",
     "iopub.status.idle": "2023-09-06T19:49:14.842589Z",
     "shell.execute_reply": "2023-09-06T19:49:14.826932Z",
     "shell.execute_reply.started": "2023-09-06T19:48:28.082832Z"
    }
   },
   "outputs": [
    {
     "name": "stdout",
     "output_type": "stream",
     "text": [
      "start HC\n",
      "end HC\n"
     ]
    }
   ],
   "source": [
    "import cv2\n",
    "import numpy as np\n",
    "\n",
    "# Load an image\n",
    "image = cv2.imread('example.jpeg', cv2.IMREAD_COLOR)\n",
    "image = cv2.resize(image, (1600, 800), interpolation=cv2.INTER_LINEAR)\n",
    "# Convert the image to grayscale\n",
    "gray = cv2.cvtColor(image, cv2.COLOR_BGR2GRAY)\n",
    "\n",
    "# Apply Gaussian blur to reduce noise and improve circle detection\n",
    "gray_blurred = cv2.GaussianBlur(gray, (9, 9), 2)\n",
    "\n",
    "print('start HC')\n",
    "\n",
    "# Detect circles using the Hough Circle Transform\n",
    "circles = cv2.HoughCircles(\n",
    "    gray_blurred,\n",
    "    cv2.HOUGH_GRADIENT,\n",
    "    dp=1,  # Resolution of the accumulator\n",
    "    minDist=20,  # Minimum distance between detected circles\n",
    "    param1=50,  # Upper threshold for edge detection\n",
    "    param2=30,  # Threshold for circle center detection\n",
    "    minRadius=0,  # Minimum radius of the circle\n",
    "    maxRadius=0  # Maximum radius of the circle\n",
    ")\n",
    "\n",
    "print('end HC')\n",
    "\n",
    "# If circles are found, draw them on the original image\n",
    "if circles is not None:\n",
    "    circles = np.uint16(np.around(circles))\n",
    "    for circle in circles[0, :]:\n",
    "        center = (circle[0], circle[1])\n",
    "        radius = circle[2]\n",
    "        cv2.circle(image, center, radius, (0, 255, 0), 2)  # Draw the circle\n",
    "        cv2.circle(image, center, 2, (0, 0, 255), 3)  # Draw the center\n",
    "\n",
    "    # Display the image with detected circles\n",
    "    cv2.imshow('Detected Circles', image)\n",
    "    cv2.waitKey(0)\n",
    "    cv2.destroyAllWindows()\n",
    "else:\n",
    "    print(\"No circles were found in the image.\")"
   ]
  }
 ],
 "metadata": {
  "kernelspec": {
   "display_name": "Python 3 (ipykernel)",
   "language": "python",
   "name": "python3"
  },
  "language_info": {
   "codemirror_mode": {
    "name": "ipython",
    "version": 3
   },
   "file_extension": ".py",
   "mimetype": "text/x-python",
   "name": "python",
   "nbconvert_exporter": "python",
   "pygments_lexer": "ipython3",
   "version": "3.10.11"
  }
 },
 "nbformat": 4,
 "nbformat_minor": 5
}
